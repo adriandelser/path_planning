#workspace to test algorithms for wrapping a line around a polygon
